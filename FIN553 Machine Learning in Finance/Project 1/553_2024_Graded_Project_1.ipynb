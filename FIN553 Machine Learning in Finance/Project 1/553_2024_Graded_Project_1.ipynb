{
  "nbformat": 4,
  "nbformat_minor": 0,
  "metadata": {
    "colab": {
      "provenance": []
    },
    "kernelspec": {
      "name": "python3",
      "display_name": "Python 3"
    },
    "language_info": {
      "name": "python"
    }
  },
  "cells": [
    {
      "cell_type": "markdown",
      "source": [
        "# Due date:\n",
        "October 11\n",
        "\n",
        "# Problem statement\n",
        "\n",
        "You are part of a trading team that makes investments based on [Fundamental Analysis](https://https://en.wikipedia.org/wiki/Fundamental_analysis).\n",
        "\n",
        "Your job is to produce revenue growth forecasts for firms in a given industry based on financial charateristics of these firms and relevant economic data. Your forecasts are then used in a larger decision making system.\n",
        "\n",
        "You have access to a dataset of 15,000 observations. Each observation $(X_i, y_i)$ consists of 4,000 economic and financial indicators that could presumably forecast revenue growth for the next quarter, and the corresponding revenue growth for that observation ($y_i$).\n",
        "\n",
        "The corresponding data set is given below:\n",
        "\n",
        "X.npy: https://drive.google.com/file/d/1SbC0xE1PPK0gL6J2yolIaQ07eoNVk2bM\n",
        "\n",
        "\n",
        "y.py: https://drive.google.com/file/d/1HxnGlU_epSaiDppRCzkZAX8AJIkV0xvS\n",
        "\n",
        "\n",
        "# Task\n",
        "Construct a linear model to forecast revenue growth based on the data you have. You model will be evaluated based on the mean squared error between your predictions and the labels evaluated at a test set. The test set comes from the same distribution as the training set and the evaluation set.\n",
        "\n"
      ],
      "metadata": {
        "id": "W14vyBYt8eE5"
      }
    },
    {
      "cell_type": "markdown",
      "source": [
        "# Deliverables\n",
        "You should send me the entire code used to solve the problem. You can send me either a colab link or a single .py file.\n",
        "\n",
        "As part of you solution, you should also deliver a function.\n"
      ],
      "metadata": {
        "id": "Uz7GKYDVX3St"
      }
    },
    {
      "cell_type": "code",
      "source": [
        "def f(X):\n",
        "  ...\n",
        "  return prediction\n"
      ],
      "metadata": {
        "id": "O1fcw8Gu8fTb"
      },
      "execution_count": null,
      "outputs": []
    },
    {
      "cell_type": "markdown",
      "source": [
        "\n",
        "that returns the predictions of you model for a new dataset X.\n"
      ],
      "metadata": {
        "id": "0HYsGt6WYtLW"
      }
    },
    {
      "cell_type": "code",
      "source": [],
      "metadata": {
        "id": "Pie-6cI3Yukf"
      },
      "execution_count": null,
      "outputs": []
    }
  ]
}