{
  "nbformat": 4,
  "nbformat_minor": 0,
  "metadata": {
    "colab": {
      "provenance": []
    },
    "kernelspec": {
      "name": "python3",
      "display_name": "Python 3"
    },
    "language_info": {
      "name": "python"
    },
    "accelerator": "GPU",
    "gpuClass": "standard"
  },
  "cells": [
    {
      "cell_type": "markdown",
      "source": [
        "**Due Date: November 20, 2024**\n",
        "\n",
        "Consider the Stochastic Cake Eating Problem covered in class. Suppose that instead of investing the wealth entirely in the stock market, you have the option to assign a fraction $\\alpha$ of your wealth in the stock market, and the remaining is invested in a risk-free savings account that pays a 1.04 % gross return. Notice that $\\alpha$ is bounded below by 0, and bounded above by 1.\n",
        "\n",
        "Solve for the optimal consumption ($c$) and asset allocation ($\\alpha$).\n",
        "\n",
        "- Print the average sum of discounted rewards (utilities) using 1 million simulations.\n",
        "\n",
        " - Plot the average consumption-wealth ratio ($c / x)$ for each time period $t=0, 1, ..., 299$\n",
        "\n",
        " - Plot the average asset allocation in the risky asset($\\alpha)$ for each time period $t=0, 1, ..., 299$\n"
      ],
      "metadata": {
        "id": "UncfcvIuYpyO"
      }
    },
    {
      "cell_type": "code",
      "source": [],
      "metadata": {
        "id": "mFUoIeQ0KZdD"
      },
      "execution_count": null,
      "outputs": []
    }
  ]
}