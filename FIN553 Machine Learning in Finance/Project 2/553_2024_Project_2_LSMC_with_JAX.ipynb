{
  "nbformat": 4,
  "nbformat_minor": 0,
  "metadata": {
    "colab": {
      "provenance": []
    },
    "kernelspec": {
      "name": "python3",
      "display_name": "Python 3"
    },
    "accelerator": "GPU",
    "gpuClass": "standard"
  },
  "cells": [
    {
      "cell_type": "code",
      "metadata": {
        "id": "ypSrQvxzipH4"
      },
      "source": [],
      "execution_count": null,
      "outputs": []
    },
    {
      "cell_type": "markdown",
      "source": [
        "Due date: October 31 2024"
      ],
      "metadata": {
        "id": "Umss_PvMjmPG"
      }
    },
    {
      "cell_type": "markdown",
      "source": [
        "# Description\n",
        "  In this problem we will use apply the LSMC method to price American put options. Specifically, we will replicate the result in the first row, 6th column of Table 1 in [Longstaff and Schwartz 2001](https://www.anderson.ucla.edu/documents/areas/fac/finance/least_squares.pdf)\n",
        "\n",
        "  \n",
        "\n",
        "*  Read the introduction of the [paper](https://www.anderson.ucla.edu/documents/areas/fac/finance/least_squares.pdf).\n",
        "*   We will price an american put option as described in page 126 of the aforementioned article. Read paragraphs 1 and 2 of page 126\n",
        "* As we saw in class, one of the ways we can use linear regression to fit nonlinear functions is to use polynomial features. A common choice in many applications is to use the so called ``Chebyshev polynomials''. Chebyshev polynomials are defined recursively by:\n",
        "\n",
        "\\begin{equation}\n",
        "T_0(x) = 1\\\\\n",
        "T_1(x) = x\\\\\n",
        "T_{n + 1}(x)  =  2 x T_n(x) - T_{n - 1}(x)\\\\\n",
        "\\end{equation}\n"
      ],
      "metadata": {
        "id": "UNMPZrw6ucMH"
      }
    },
    {
      "cell_type": "markdown",
      "source": [
        "# Part 1\n",
        "The code below simulates the evolution of a stock price that follows a geometric brownian motion. Write a JAX version of that code. You are not allowed to use functions from other libraries. For this part, the \"simulate\"\n",
        "function does not need to be jit compiled. As we will see, jit compiling a funciton with for loops may introduce some complications\n"
      ],
      "metadata": {
        "id": "qszv8niMdzJK"
      }
    },
    {
      "cell_type": "code",
      "source": [
        "import numpy as np\n",
        "\n",
        "# Data\n",
        "σ = 0.04\n",
        "r = 0.01\n",
        "K = 35\n",
        "\n",
        "# Design choice\n",
        "dt = 0.01\n",
        "m = 100\n",
        "\n",
        "\n",
        "def simulate():\n",
        "  np.random.seed(0)\n",
        "\n",
        "  def step(S):\n",
        "    dZ = np.random.normal(size=S.size) * np.sqrt(dt)\n",
        "    dS = r * S  * dt + σ  * S  * dZ\n",
        "    S = S + dS\n",
        "    return S\n",
        "\n",
        "  S0 = np.ones(20000)\n",
        "  S = S0\n",
        "  S_list = []\n",
        "\n",
        "  for t in range(m):\n",
        "    S = step(S)\n",
        "    S_list.append(S)\n",
        "\n",
        "  S_array = np.stack(S_list)\n",
        "  return S_array\n"
      ],
      "metadata": {
        "id": "D6VdC2QZduv9"
      },
      "execution_count": null,
      "outputs": []
    },
    {
      "cell_type": "markdown",
      "source": [
        "# Part 2\n",
        "Write a jit compiled version of the simulate function. You may want to check out the function jax.lax.scan.\n"
      ],
      "metadata": {
        "id": "-sYIUZ1QfF-i"
      }
    },
    {
      "cell_type": "markdown",
      "source": [
        "# Part 3\n",
        "The code below computes the price of an American Put option using Least Squares Monte Carlo (LSMC). Write a JAX version of that code. You are not allowed to use functions from other libraries. Your \"compute_price\" function must be jit compiled."
      ],
      "metadata": {
        "id": "YdCFrHUafwBh"
      }
    },
    {
      "cell_type": "code",
      "source": [
        "import numpy as np\n",
        "\n",
        "Spot = 36   # stock price\n",
        "σ = 0.2     # stock volatility\n",
        "K = 40      # strike price\n",
        "r = 0.06    # risk free rate\n",
        "n = 100000  # Number of simualted paths\n",
        "m = 50      # number of exercise dates\n",
        "T = 1       # maturity\n",
        "order = 12   # Polynmial order\n",
        "Δt = T / m  # interval between two exercise dates\n",
        "\n",
        "\n",
        "# Construct polynomial features of order up to k using the\n",
        "# recursive formulation\n",
        "def chebyshev_basis(x, k):\n",
        "    B = [np.ones(len(x)), x]\n",
        "    for n in range(2, k):\n",
        "        Bn = 2 * x * B[n - 1] - B[n - 2]\n",
        "        B.append(Bn)\n",
        "\n",
        "    return np.column_stack(B)\n",
        "\n",
        "\n",
        "# scales x to be in the interval(-1, 1)\n",
        "def scale(x):\n",
        "    xmin = x.min()\n",
        "    xmax = x.max()\n",
        "    a = 2 / (xmax - xmin)\n",
        "    b = 1 - a * xmax\n",
        "    return a * x + b\n",
        "\n",
        "\n",
        "# simulates one step of the stock price evolution\n",
        "def step(S):\n",
        "    dB = np.sqrt(Δt) * np.random.normal(size=S.size)\n",
        "    S_tp1 = S + r * S * Δt + σ * S * dB\n",
        "    return S_tp1\n",
        "\n",
        "\n",
        "def payoff_put(S):\n",
        "    return np.maximum(K - S, 0.)\n",
        "\n",
        "\n",
        "# LSMC algorithm\n",
        "def compute_price():\n",
        "    np.random.seed(0)\n",
        "    S0 = Spot * np.ones(n)\n",
        "    S = [S0]\n",
        "\n",
        "    for t in range(m):\n",
        "        S_tp1 = step(S[t])\n",
        "        S.append(S_tp1)\n",
        "\n",
        "    discount = np.exp(-r * Δt)\n",
        "\n",
        "    # Very last date\n",
        "    value_if_exercise = payoff_put(S[-1])\n",
        "    discounted_future_cashflows = value_if_exercise * discount\n",
        "\n",
        "    # Proceed recursively\n",
        "    for i in range(m - 1):\n",
        "        X = chebyshev_basis(scale(S[-2 - i]), order)\n",
        "        Y = discounted_future_cashflows\n",
        "\n",
        "        Θ = np.linalg.solve(X.T @ X, X.T @ Y)\n",
        "        value_if_wait = X @ Θ\n",
        "        value_if_exercise = payoff_put(S[-2 - i])\n",
        "        exercise = value_if_exercise >= value_if_wait\n",
        "        discounted_future_cashflows = discount * np.where(\n",
        "            exercise,\n",
        "            value_if_exercise,\n",
        "            discounted_future_cashflows)\n",
        "\n",
        "    return discounted_future_cashflows.mean()\n",
        "\n",
        "\n",
        "print(compute_price())\n",
        "# test = compute_price(order, Spot, σ, K, r)\n"
      ],
      "metadata": {
        "colab": {
          "base_uri": "https://localhost:8080/"
        },
        "id": "w539_qu_fFaf",
        "outputId": "c7bf9b8c-de9f-470b-b617-a06d3c21ad94"
      },
      "execution_count": null,
      "outputs": [
        {
          "output_type": "stream",
          "name": "stdout",
          "text": [
            "4.4634476148734405\n"
          ]
        }
      ]
    }
  ]
}