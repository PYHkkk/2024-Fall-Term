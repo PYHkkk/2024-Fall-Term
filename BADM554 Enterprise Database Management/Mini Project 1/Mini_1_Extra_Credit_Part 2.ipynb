{
 "cells": [
  {
   "cell_type": "code",
   "execution_count": 46,
   "metadata": {
    "_cell_guid": "b1076dfc-b9ad-4769-8c92-a6c4dae69d19",
    "_uuid": "8f2839f25d086af736a60e9eeb907d3b93b6e0e5",
    "execution": {
     "iopub.execute_input": "2024-11-17T06:11:20.285862Z",
     "iopub.status.busy": "2024-11-17T06:11:20.284535Z",
     "iopub.status.idle": "2024-11-17T06:11:20.309172Z",
     "shell.execute_reply": "2024-11-17T06:11:20.307968Z",
     "shell.execute_reply.started": "2024-11-17T06:11:20.285796Z"
    },
    "trusted": true
   },
   "outputs": [
    {
     "name": "stdout",
     "output_type": "stream",
     "text": [
      "/kaggle/input/yelp-dataset/Dataset_User_Agreement.pdf\n",
      "/kaggle/input/yelp-dataset/yelp_academic_dataset_review.json\n",
      "/kaggle/input/yelp-dataset/yelp_academic_dataset_checkin.json\n",
      "/kaggle/input/yelp-dataset/yelp_academic_dataset_business.json\n",
      "/kaggle/input/yelp-dataset/yelp_academic_dataset_tip.json\n",
      "/kaggle/input/yelp-dataset/yelp_academic_dataset_user.json\n"
     ]
    }
   ],
   "source": [
    "# This Python 3 environment comes with many helpful analytics libraries installed\n",
    "# It is defined by the kaggle/python Docker image: https://github.com/kaggle/docker-python\n",
    "# For example, here's several helpful packages to load\n",
    "\n",
    "import numpy as np # linear algebra\n",
    "import pandas as pd # data processing, CSV file I/O (e.g. pd.read_csv)\n",
    "\n",
    "# Input data files are available in the read-only \"../input/\" directory\n",
    "# For example, running this (by clicking run or pressing Shift+Enter) will list all files under the input directory\n",
    "\n",
    "import os\n",
    "for dirname, _, filenames in os.walk('/kaggle/input'):\n",
    "    for filename in filenames:\n",
    "        print(os.path.join(dirname, filename))\n",
    "\n",
    "# You can write up to 20GB to the current directory (/kaggle/working/) that gets preserved as output when you create a version using \"Save & Run All\" \n",
    "# You can also write temporary files to /kaggle/temp/, but they won't be saved outside of the current session"
   ]
  },
  {
   "cell_type": "code",
   "execution_count": null,
   "metadata": {
    "trusted": true
   },
   "outputs": [],
   "source": []
  },
  {
   "cell_type": "code",
   "execution_count": 47,
   "metadata": {
    "execution": {
     "iopub.execute_input": "2024-11-17T06:11:20.312200Z",
     "iopub.status.busy": "2024-11-17T06:11:20.311728Z",
     "iopub.status.idle": "2024-11-17T06:11:35.931880Z",
     "shell.execute_reply": "2024-11-17T06:11:35.930693Z",
     "shell.execute_reply.started": "2024-11-17T06:11:20.312146Z"
    },
    "trusted": true
   },
   "outputs": [
    {
     "name": "stdout",
     "output_type": "stream",
     "text": [
      "Review Data Sample:\n",
      "                review_id                 user_id             business_id  \\\n",
      "0  KU_O5udG6zpxOg-VcAEodg  mh_-eMZ6K5RLWhZyISBhwA  XQfwVwDr-v0ZS3_CbbE5Xw   \n",
      "1  BiTunyQ73aT9WBnpR9DZGw  OyoGAe7OKpv6SyGZT5g77Q  7ATYjTIgM3jUlt4UM3IypQ   \n",
      "2  saUsX_uimxRlCVr67Z4Jig  8g_iMtfSiwikVnbP2etR0A  YjUWPpI6HXG530lwP-fb2A   \n",
      "3  AqPFMleE6RsU23_auESxiA  _7bHUi9Uuf5__HHc_Q8guQ  kxX2SOes4o-D3ZQBkiMRfA   \n",
      "4  Sx8TMOWLNuJBWer-0pcmoA  bcjbaE6dDog4jkNY91ncLQ  e4Vwtrqf-wpJfwesgvdgxQ   \n",
      "\n",
      "   stars  useful  funny  cool  \\\n",
      "0      3       0      0     0   \n",
      "1      5       1      0     1   \n",
      "2      3       0      0     0   \n",
      "3      5       1      0     1   \n",
      "4      4       1      0     1   \n",
      "\n",
      "                                                text                date  \n",
      "0  If you decide to eat here, just be aware it is... 2018-07-07 22:09:11  \n",
      "1  I've taken a lot of spin classes over the year... 2012-01-03 15:28:18  \n",
      "2  Family diner. Had the buffet. Eclectic assortm... 2014-02-05 20:30:30  \n",
      "3  Wow!  Yummy, different,  delicious.   Our favo... 2015-01-04 00:01:03  \n",
      "4  Cute interior and owner (?) gave us tour of up... 2017-01-14 20:54:15  \n",
      "\n",
      "Review Data Columns:\n",
      "Index(['review_id', 'user_id', 'business_id', 'stars', 'useful', 'funny',\n",
      "       'cool', 'text', 'date'],\n",
      "      dtype='object')\n",
      "\n",
      "Check-in Data Sample:\n",
      "              business_id                                               date\n",
      "0  ---kPU91CF4Lq2-WlRu9Lw  2020-03-13 21:10:56, 2020-06-02 22:18:06, 2020...\n",
      "1  --0iUa4sNDFiZFrAdIWhZQ  2010-09-13 21:43:09, 2011-05-04 23:08:15, 2011...\n",
      "2  --30_8IhuyMHbSOcNWd6DQ           2013-06-14 23:29:17, 2014-08-13 23:20:22\n",
      "3  --7PUidqRWpRSpXebiyxTg  2011-02-15 17:12:00, 2011-07-28 02:46:10, 2012...\n",
      "4  --7jw19RH9JKXgFohspgQw  2014-04-21 20:42:11, 2014-04-28 21:04:46, 2014...\n",
      "\n",
      "Check-in Data Columns:\n",
      "Index(['business_id', 'date'], dtype='object')\n",
      "\n",
      "Business Data Sample:\n",
      "              business_id                      name  \\\n",
      "0  Pns2l4eNsfO8kk83dixA6A  Abby Rappoport, LAC, CMQ   \n",
      "1  mpf3x-BjTdTEA3yCZrAYPw             The UPS Store   \n",
      "2  tUFrWirKiKi_TAnsVWINQQ                    Target   \n",
      "3  MTSW4McQd7CbVtyjqoe9mw        St Honore Pastries   \n",
      "4  mWMc6_wTdE0EUBKIGXDVfA  Perkiomen Valley Brewery   \n",
      "\n",
      "                           address           city state postal_code  \\\n",
      "0           1616 Chapala St, Ste 2  Santa Barbara    CA       93101   \n",
      "1  87 Grasso Plaza Shopping Center         Affton    MO       63123   \n",
      "2             5255 E Broadway Blvd         Tucson    AZ       85711   \n",
      "3                      935 Race St   Philadelphia    PA       19107   \n",
      "4                    101 Walnut St     Green Lane    PA       18054   \n",
      "\n",
      "    latitude   longitude  stars  review_count  is_open  \\\n",
      "0  34.426679 -119.711197    5.0             7        0   \n",
      "1  38.551126  -90.335695    3.0            15        1   \n",
      "2  32.223236 -110.880452    3.5            22        0   \n",
      "3  39.955505  -75.155564    4.0            80        1   \n",
      "4  40.338183  -75.471659    4.5            13        1   \n",
      "\n",
      "                                          attributes  \\\n",
      "0                      {'ByAppointmentOnly': 'True'}   \n",
      "1             {'BusinessAcceptsCreditCards': 'True'}   \n",
      "2  {'BikeParking': 'True', 'BusinessAcceptsCredit...   \n",
      "3  {'RestaurantsDelivery': 'False', 'OutdoorSeati...   \n",
      "4  {'BusinessAcceptsCreditCards': 'True', 'Wheelc...   \n",
      "\n",
      "                                          categories  \\\n",
      "0  Doctors, Traditional Chinese Medicine, Naturop...   \n",
      "1  Shipping Centers, Local Services, Notaries, Ma...   \n",
      "2  Department Stores, Shopping, Fashion, Home & G...   \n",
      "3  Restaurants, Food, Bubble Tea, Coffee & Tea, B...   \n",
      "4                          Brewpubs, Breweries, Food   \n",
      "\n",
      "                                               hours  \n",
      "0                                               None  \n",
      "1  {'Monday': '0:0-0:0', 'Tuesday': '8:0-18:30', ...  \n",
      "2  {'Monday': '8:0-22:0', 'Tuesday': '8:0-22:0', ...  \n",
      "3  {'Monday': '7:0-20:0', 'Tuesday': '7:0-20:0', ...  \n",
      "4  {'Wednesday': '14:0-22:0', 'Thursday': '16:0-2...  \n",
      "\n",
      "Business Data Columns:\n",
      "Index(['business_id', 'name', 'address', 'city', 'state', 'postal_code',\n",
      "       'latitude', 'longitude', 'stars', 'review_count', 'is_open',\n",
      "       'attributes', 'categories', 'hours'],\n",
      "      dtype='object')\n",
      "\n",
      "Tip Data Sample:\n",
      "                  user_id             business_id  \\\n",
      "0  AGNUgVwnZUey3gcPCJ76iw  3uLgwr0qeCNMjKenHJwPGQ   \n",
      "1  NBN4MgHP9D3cw--SnauTkA  QoezRbYQncpRqyrLH6Iqjg   \n",
      "2  -copOvldyKh1qr-vzkDEvw  MYoRNLb5chwjQe3c_k37Gg   \n",
      "3  FjMQVZjSqY8syIO-53KFKw  hV-bABTK-glh5wj31ps_Jw   \n",
      "4  ld0AperBXk1h6UbqmM80zw  _uN0OudeJ3Zl_tf6nxg5ww   \n",
      "\n",
      "                                                text                date  \\\n",
      "0                     Avengers time with the ladies. 2012-05-18 02:17:21   \n",
      "1  They have lots of good deserts and tasty cuban... 2013-02-05 18:35:10   \n",
      "2             It's open even when you think it isn't 2013-08-18 00:56:08   \n",
      "3                          Very decent fried chicken 2017-06-27 23:05:38   \n",
      "4             Appetizers.. platter special for lunch 2012-10-06 19:43:09   \n",
      "\n",
      "   compliment_count  \n",
      "0                 0  \n",
      "1                 0  \n",
      "2                 0  \n",
      "3                 0  \n",
      "4                 0  \n",
      "\n",
      "Tip Data Columns:\n",
      "Index(['user_id', 'business_id', 'text', 'date', 'compliment_count'], dtype='object')\n",
      "\n",
      "User Data Sample:\n",
      "                  user_id    name  review_count        yelping_since  useful  \\\n",
      "0  qVc8ODYU5SZjKXVBgXdI7w  Walker           585  2007-01-25 16:47:26    7217   \n",
      "1  j14WgRoU_-2ZE1aw1dXrJg  Daniel          4333  2009-01-25 04:35:42   43091   \n",
      "2  2WnXYQFK0hXEoTxPtV2zvg   Steph           665  2008-07-25 10:41:00    2086   \n",
      "3  SZDeASXq7o05mMNLshsdIA    Gwen           224  2005-11-29 04:38:33     512   \n",
      "4  hA5lMy-EnncsH4JoR-hFGQ   Karen            79  2007-01-05 19:40:59      29   \n",
      "\n",
      "   funny   cool                                              elite  \\\n",
      "0   1259   5994                                               2007   \n",
      "1  13066  27281  2009,2010,2011,2012,2013,2014,2015,2016,2017,2...   \n",
      "2   1010   1003                           2009,2010,2011,2012,2013   \n",
      "3    330    299                                     2009,2010,2011   \n",
      "4     15      7                                                      \n",
      "\n",
      "                                             friends  fans  ...  \\\n",
      "0  NSCy54eWehBJyZdG2iE84w, pe42u7DcCH2QmI81NX-8qA...   267  ...   \n",
      "1  ueRPE0CX75ePGMqOFVj6IQ, 52oH4DrRvzzl8wh5UXyU0A...  3138  ...   \n",
      "2  LuO3Bn4f3rlhyHIaNfTlnA, j9B4XdHUhDfTKVecyWQgyA...    52  ...   \n",
      "3  enx1vVPnfdNUdPho6PH_wg, 4wOcvMLtU6a9Lslggq74Vg...    28  ...   \n",
      "4  PBK4q9KEEBHhFvSXCUirIw, 3FWPpM7KU1gXeOM_ZbYMbA...     1  ...   \n",
      "\n",
      "   compliment_more  compliment_profile  compliment_cute  compliment_list  \\\n",
      "0               65                  55               56               18   \n",
      "1              264                 184              157              251   \n",
      "2               13                  10               17                3   \n",
      "3                4                   1                6                2   \n",
      "4                1                   0                0                0   \n",
      "\n",
      "   compliment_note  compliment_plain  compliment_cool  compliment_funny  \\\n",
      "0              232               844              467               467   \n",
      "1             1847              7054             3131              3131   \n",
      "2               66                96              119               119   \n",
      "3               12                16               26                26   \n",
      "4                1                 1                0                 0   \n",
      "\n",
      "   compliment_writer  compliment_photos  \n",
      "0                239                180  \n",
      "1               1521               1946  \n",
      "2                 35                 18  \n",
      "3                 10                  9  \n",
      "4                  0                  0  \n",
      "\n",
      "[5 rows x 22 columns]\n",
      "\n",
      "User Data Columns:\n",
      "Index(['user_id', 'name', 'review_count', 'yelping_since', 'useful', 'funny',\n",
      "       'cool', 'elite', 'friends', 'fans', 'average_stars', 'compliment_hot',\n",
      "       'compliment_more', 'compliment_profile', 'compliment_cute',\n",
      "       'compliment_list', 'compliment_note', 'compliment_plain',\n",
      "       'compliment_cool', 'compliment_funny', 'compliment_writer',\n",
      "       'compliment_photos'],\n",
      "      dtype='object')\n",
      "\n",
      "Summary of the Review DataFrame:\n",
      "<class 'pandas.core.frame.DataFrame'>\n",
      "RangeIndex: 50000 entries, 0 to 49999\n",
      "Data columns (total 9 columns):\n",
      " #   Column       Non-Null Count  Dtype         \n",
      "---  ------       --------------  -----         \n",
      " 0   review_id    50000 non-null  object        \n",
      " 1   user_id      50000 non-null  object        \n",
      " 2   business_id  50000 non-null  object        \n",
      " 3   stars        50000 non-null  int64         \n",
      " 4   useful       50000 non-null  int64         \n",
      " 5   funny        50000 non-null  int64         \n",
      " 6   cool         50000 non-null  int64         \n",
      " 7   text         50000 non-null  object        \n",
      " 8   date         50000 non-null  datetime64[ns]\n",
      "dtypes: datetime64[ns](1), int64(4), object(4)\n",
      "memory usage: 3.4+ MB\n",
      "None\n",
      "\n",
      "Summary of the Business DataFrame:\n",
      "<class 'pandas.core.frame.DataFrame'>\n",
      "RangeIndex: 50000 entries, 0 to 49999\n",
      "Data columns (total 14 columns):\n",
      " #   Column        Non-Null Count  Dtype  \n",
      "---  ------        --------------  -----  \n",
      " 0   business_id   50000 non-null  object \n",
      " 1   name          50000 non-null  object \n",
      " 2   address       50000 non-null  object \n",
      " 3   city          50000 non-null  object \n",
      " 4   state         50000 non-null  object \n",
      " 5   postal_code   50000 non-null  object \n",
      " 6   latitude      50000 non-null  float64\n",
      " 7   longitude     50000 non-null  float64\n",
      " 8   stars         50000 non-null  float64\n",
      " 9   review_count  50000 non-null  int64  \n",
      " 10  is_open       50000 non-null  int64  \n",
      " 11  attributes    45539 non-null  object \n",
      " 12  categories    49963 non-null  object \n",
      " 13  hours         42266 non-null  object \n",
      "dtypes: float64(3), int64(2), object(9)\n",
      "memory usage: 5.3+ MB\n",
      "None\n"
     ]
    }
   ],
   "source": [
    "# Import necessary libraries\n",
    "import pandas as pd\n",
    "\n",
    "# Define file paths\n",
    "review_path = '/kaggle/input/yelp-dataset/yelp_academic_dataset_review.json'\n",
    "checkin_path = '/kaggle/input/yelp-dataset/yelp_academic_dataset_checkin.json'\n",
    "business_path = '/kaggle/input/yelp-dataset/yelp_academic_dataset_business.json'\n",
    "tip_path = '/kaggle/input/yelp-dataset/yelp_academic_dataset_tip.json'\n",
    "user_path = '/kaggle/input/yelp-dataset/yelp_academic_dataset_user.json'\n",
    "\n",
    "# Load the data with chunksize for large files to avoid memory issues\n",
    "chunksize = 50000  # Adjust based on memory availability\n",
    "\n",
    "# Load a sample chunk to inspect the structure of the review data\n",
    "review_chunk = pd.read_json(review_path, lines=True, chunksize=chunksize)\n",
    "review_df = next(review_chunk)\n",
    "print(\"Review Data Sample:\")\n",
    "print(review_df.head())\n",
    "print(\"\\nReview Data Columns:\")\n",
    "print(review_df.columns)\n",
    "\n",
    "# Load a sample chunk to inspect the structure of the check-in data\n",
    "checkin_df = pd.read_json(checkin_path, lines=True)\n",
    "print(\"\\nCheck-in Data Sample:\")\n",
    "print(checkin_df.head())\n",
    "print(\"\\nCheck-in Data Columns:\")\n",
    "print(checkin_df.columns)\n",
    "\n",
    "# Load a sample chunk to inspect the structure of the business data\n",
    "business_chunk = pd.read_json(business_path, lines=True, chunksize=chunksize)\n",
    "business_df = next(business_chunk)\n",
    "print(\"\\nBusiness Data Sample:\")\n",
    "print(business_df.head())\n",
    "print(\"\\nBusiness Data Columns:\")\n",
    "print(business_df.columns)\n",
    "\n",
    "# Load the entire tip data (smaller file)\n",
    "tip_df = pd.read_json(tip_path, lines=True)\n",
    "print(\"\\nTip Data Sample:\")\n",
    "print(tip_df.head())\n",
    "print(\"\\nTip Data Columns:\")\n",
    "print(tip_df.columns)\n",
    "\n",
    "# Load the entire user data (smaller file)\n",
    "user_chunk = pd.read_json(user_path, lines=True, chunksize=chunksize)\n",
    "user_df = next(user_chunk)\n",
    "print(\"\\nUser Data Sample:\")\n",
    "print(user_df.head())\n",
    "print(\"\\nUser Data Columns:\")\n",
    "print(user_df.columns)\n",
    "\n",
    "# Additional exploration\n",
    "print(\"\\nSummary of the Review DataFrame:\")\n",
    "print(review_df.info())\n",
    "\n",
    "print(\"\\nSummary of the Business DataFrame:\")\n",
    "print(business_df.info())"
   ]
  },
  {
   "cell_type": "markdown",
   "metadata": {},
   "source": [
    "Top 10 Most Popular Restaurant Categories"
   ]
  },
  {
   "cell_type": "code",
   "execution_count": 48,
   "metadata": {
    "execution": {
     "iopub.execute_input": "2024-11-17T06:11:35.933858Z",
     "iopub.status.busy": "2024-11-17T06:11:35.933463Z",
     "iopub.status.idle": "2024-11-17T06:11:36.351167Z",
     "shell.execute_reply": "2024-11-17T06:11:36.350034Z",
     "shell.execute_reply.started": "2024-11-17T06:11:35.933818Z"
    },
    "trusted": true
   },
   "outputs": [
    {
     "name": "stdout",
     "output_type": "stream",
     "text": [
      "\n",
      "Most common restaurant categories:\n",
      "                 Category  Num_Restaurants\n",
      "0             Restaurants            17313\n",
      "1                    Food             5153\n",
      "2               Nightlife             2817\n",
      "3              Sandwiches             2726\n",
      "4                    Bars             2696\n",
      "5  American (Traditional)             2679\n",
      "6                   Pizza             2359\n",
      "7               Fast Food             2091\n",
      "8      Breakfast & Brunch             2072\n",
      "9          American (New)             1981\n"
     ]
    }
   ],
   "source": [
    "# Filter data for restaurants\n",
    "restaurant_data = business_df[business_df['categories'].str.contains('Restaurant', na=False, case=False)]\n",
    "\n",
    "# Split the categories column into individual categories\n",
    "categories_split = restaurant_data['categories'].str.split(', ')\n",
    "categories_exploded = categories_split.explode()\n",
    "\n",
    "# Count the occurrences of each category\n",
    "category_counts = categories_exploded.value_counts().reset_index()\n",
    "category_counts.columns = ['Category', 'Num_Restaurants']\n",
    "\n",
    "# Get the top 10 most common categories\n",
    "top_categories = category_counts.head(10)\n",
    "\n",
    "# Print the results\n",
    "print(\"\\nMost common restaurant categories:\")\n",
    "print(top_categories)"
   ]
  },
  {
   "cell_type": "markdown",
   "metadata": {},
   "source": [
    "Top 10 Highest-Rated Restaurants"
   ]
  },
  {
   "cell_type": "code",
   "execution_count": 49,
   "metadata": {
    "execution": {
     "iopub.execute_input": "2024-11-17T06:11:36.354190Z",
     "iopub.status.busy": "2024-11-17T06:11:36.353805Z",
     "iopub.status.idle": "2024-11-17T06:11:36.476365Z",
     "shell.execute_reply": "2024-11-17T06:11:36.475076Z",
     "shell.execute_reply.started": "2024-11-17T06:11:36.354150Z"
    },
    "trusted": true
   },
   "outputs": [
    {
     "name": "stdout",
     "output_type": "stream",
     "text": [
      "Top-rated restaurants:\n",
      "                            name  stars  review_count\n",
      "12307            Blues City Deli    5.0           991\n",
      "16555                   Tumerico    5.0           705\n",
      "7930                 Cafe Soleil    5.0           468\n",
      "33175                Kaffe Crepe    5.0           454\n",
      "29873         Barista Del Barrio    5.0           357\n",
      "35194            German Bistro 2    5.0           301\n",
      "31772        Tasty And Delicious    5.0           260\n",
      "35856                    Tlaolli    5.0           209\n",
      "35742                   The Poki    5.0           193\n",
      "37626  The Café at Thistle Farms    5.0           189\n"
     ]
    }
   ],
   "source": [
    "# Filter businesses that are restaurants\n",
    "restaurant_data = business_df[business_df['categories'].str.contains('Restaurant', na=False, case=False)]\n",
    "\n",
    "# Select the necessary columns: 'name', 'stars', 'review_count'\n",
    "restaurant_ratings = restaurant_data[['name', 'stars', 'review_count']]\n",
    "\n",
    "# Sort by 'stars' in descending order, and then by 'review_count' in descending order\n",
    "top_rated_restaurants = restaurant_ratings.sort_values(by=['stars', 'review_count'], ascending=[False, False])\n",
    "\n",
    "# Select the top 10 rows\n",
    "top_rated_restaurants = top_rated_restaurants.head(10)\n",
    "\n",
    "# Print the result\n",
    "print(\"Top-rated restaurants:\")\n",
    "print(top_rated_restaurants)\n"
   ]
  },
  {
   "cell_type": "markdown",
   "metadata": {},
   "source": [
    "Top 10 Most Reviewed Restaurants"
   ]
  },
  {
   "cell_type": "code",
   "execution_count": 50,
   "metadata": {
    "execution": {
     "iopub.execute_input": "2024-11-17T06:11:36.479086Z",
     "iopub.status.busy": "2024-11-17T06:11:36.478329Z",
     "iopub.status.idle": "2024-11-17T06:11:36.584917Z",
     "shell.execute_reply": "2024-11-17T06:11:36.583639Z",
     "shell.execute_reply.started": "2024-11-17T06:11:36.479020Z"
    },
    "trusted": true
   },
   "outputs": [
    {
     "name": "stdout",
     "output_type": "stream",
     "text": [
      "Restaurants with the highest number of reviews:\n",
      "                              name  review_count  stars\n",
      "31033                  Royal House          5070    4.0\n",
      "31332           Commander's Palace          4876    4.5\n",
      "4497                          Luke          4554    4.0\n",
      "42331                   Gumbo Shop          3902    4.0\n",
      "49618               Cochon Butcher          3837    4.5\n",
      "17899   Drago's Seafood Restaurant          3160    3.5\n",
      "31165                        Zahav          3065    4.5\n",
      "41952  Brophy Bros - Santa Barbara          2940    4.0\n",
      "32326               Peg Leg Porker          2878    4.5\n",
      "20078                         Parc          2761    4.0\n"
     ]
    }
   ],
   "source": [
    "# Filter businesses that are restaurants\n",
    "restaurant_data = business_df[business_df['categories'].str.contains('Restaurant', na=False, case=False)]\n",
    "\n",
    "# Select the necessary columns: 'name', 'review_count', 'stars'\n",
    "restaurant_reviews = restaurant_data[['name', 'review_count', 'stars']]\n",
    "\n",
    "# Sort by 'review_count' in descending order\n",
    "most_reviewed_restaurants = restaurant_reviews.sort_values(by='review_count', ascending=False)\n",
    "\n",
    "# Select the top 10 rows\n",
    "most_reviewed_restaurants = most_reviewed_restaurants.head(10)\n",
    "\n",
    "# Print the result\n",
    "print(\"Restaurants with the highest number of reviews:\")\n",
    "print(most_reviewed_restaurants)\n"
   ]
  },
  {
   "cell_type": "markdown",
   "metadata": {},
   "source": [
    "Cities with the Highest Average Restaurant Ratings"
   ]
  },
  {
   "cell_type": "code",
   "execution_count": 51,
   "metadata": {
    "execution": {
     "iopub.execute_input": "2024-11-17T06:11:36.586773Z",
     "iopub.status.busy": "2024-11-17T06:11:36.586361Z",
     "iopub.status.idle": "2024-11-17T06:11:36.695317Z",
     "shell.execute_reply": "2024-11-17T06:11:36.694073Z",
     "shell.execute_reply.started": "2024-11-17T06:11:36.586723Z"
    },
    "trusted": true
   },
   "outputs": [
    {
     "name": "stdout",
     "output_type": "stream",
     "text": [
      "Average star ratings for restaurants in specific cities:\n",
      "                    city  avg_rating\n",
      "44         Birchrunville         5.0\n",
      "65            Bryn Athyn         5.0\n",
      "632     Wilmington Manor         5.0\n",
      "266            Kalispell         5.0\n",
      "420  Pennsville Township         5.0\n",
      "..                   ...         ...\n",
      "532              St.Rose         1.5\n",
      "33             Bellville         1.5\n",
      "286         Land O'Lakes         1.5\n",
      "148         Eaux Claires         1.5\n",
      "333        Mc Cordsville         1.5\n",
      "\n",
      "[658 rows x 2 columns]\n"
     ]
    }
   ],
   "source": [
    "# Filter businesses that are restaurants\n",
    "restaurant_data = business_df[business_df['categories'].str.contains('Restaurant', na=False, case=False)]\n",
    "\n",
    "# Group by 'city' and calculate the average star rating\n",
    "average_ratings_by_city = (\n",
    "    restaurant_data.groupby('city')['stars']\n",
    "    .mean()\n",
    "    .reset_index()\n",
    "    .rename(columns={'stars': 'avg_rating'})\n",
    ")\n",
    "\n",
    "# Sort by average rating in descending order\n",
    "average_ratings_by_city = average_ratings_by_city.sort_values(by='avg_rating', ascending=False)\n",
    "\n",
    "# Print the result\n",
    "print(\"Average star ratings for restaurants in specific cities:\")\n",
    "print(average_ratings_by_city)\n"
   ]
  },
  {
   "cell_type": "markdown",
   "metadata": {},
   "source": [
    "Top 10 Peak Check-In Hours for Popular Restaurants"
   ]
  },
  {
   "cell_type": "code",
   "execution_count": 52,
   "metadata": {
    "execution": {
     "iopub.execute_input": "2024-11-17T06:11:36.697194Z",
     "iopub.status.busy": "2024-11-17T06:11:36.696860Z",
     "iopub.status.idle": "2024-11-17T06:11:41.341220Z",
     "shell.execute_reply": "2024-11-17T06:11:41.339957Z",
     "shell.execute_reply.started": "2024-11-17T06:11:36.697158Z"
    },
    "trusted": true
   },
   "outputs": [
    {
     "name": "stdout",
     "output_type": "stream",
     "text": [
      "Peak check-in hours for popular restaurants:\n",
      "                  business_id  hour  checkin_count\n",
      "0      ---kPU91CF4Lq2-WlRu9Lw    21              1\n",
      "87996  emPRzbSwgwYojuzoElaBcg     3              1\n",
      "87962  el83zfEgg_5bBz5Et9rZ6Q     2              1\n",
      "87961  el71vYwT5M1bc6oFsBdqvQ     4              1\n",
      "87960  el6K1DsZRnKNNaZ14YGMHQ     2              1\n",
      "87959  el-WV1mOpFmrQOowLnh4aw     2              1\n",
      "87958  ekz_pi9GepaKVT9DE8cUrg     0              1\n",
      "87957  ekxvAyD2T5v3GS7n4X_3dQ     0              1\n",
      "87956  ekt4x3T2vgsnIwbJswishg     4              1\n",
      "87955  ekrj3Ov-tRqcE9APVlMnHg     1              1\n"
     ]
    }
   ],
   "source": [
    "import pandas as pd\n",
    "\n",
    "# Split and explode the `date` column to handle multiple date entries\n",
    "checkin_df = checkin_df.copy()  # Make a copy to avoid altering the original DataFrame\n",
    "checkin_df['date'] = checkin_df['date'].str.split(', ').explode().reset_index(drop=True)\n",
    "\n",
    "# Convert the `date` column to datetime format\n",
    "checkin_df['date'] = pd.to_datetime(checkin_df['date'])\n",
    "\n",
    "# Extract the hour from the `date` column\n",
    "checkin_df['hour'] = checkin_df['date'].dt.hour\n",
    "\n",
    "# Group by `business_id` and `hour`, then count the check-ins\n",
    "checkin_count = (\n",
    "    checkin_df.groupby(['business_id', 'hour'])\n",
    "    .size()\n",
    "    .reset_index(name='checkin_count')\n",
    ")\n",
    "\n",
    "# Sort by `checkin_count` in descending order\n",
    "checkin_count_sorted = checkin_count.sort_values(by='checkin_count', ascending=False)\n",
    "\n",
    "# Select the top 10 rows\n",
    "top_peak_checkin_hours = checkin_count_sorted.head(10)\n",
    "\n",
    "# Print the result\n",
    "print(\"Peak check-in hours for popular restaurants:\")\n",
    "print(top_peak_checkin_hours)\n"
   ]
  },
  {
   "cell_type": "markdown",
   "metadata": {},
   "source": [
    "Most Active Users Reviewing Restaurants"
   ]
  },
  {
   "cell_type": "code",
   "execution_count": 53,
   "metadata": {
    "execution": {
     "iopub.execute_input": "2024-11-17T06:11:41.343104Z",
     "iopub.status.busy": "2024-11-17T06:11:41.342750Z",
     "iopub.status.idle": "2024-11-17T06:11:41.473881Z",
     "shell.execute_reply": "2024-11-17T06:11:41.472650Z",
     "shell.execute_reply.started": "2024-11-17T06:11:41.343067Z"
    },
    "trusted": true
   },
   "outputs": [
    {
     "name": "stdout",
     "output_type": "stream",
     "text": [
      "Most active users who visit restaurants:\n",
      "                      user_id  review_count\n",
      "24934  _BcWyKQL16ndpBdggh2kNA            25\n",
      "1538   1HM81n6n4iPIFU5d2Lokhw            19\n",
      "14023  Jt3GylPuH64uA3zTdbMdCg            16\n",
      "844    0Igx-a1wAstiBDerGxXk2A            15\n",
      "21229  Um5bfs5DH6eizgjH3xZsvg            13\n",
      "31096  iPkdNziqnhNukjnmsrSzmg            12\n",
      "39837  vYMvOTL31e0KbTo9Hd0tjg            11\n",
      "6044   84HvpQDxcHWmbMDfs8IEYw            11\n",
      "27056  cIVmIJD7nIiEcVGamfBoVw            11\n",
      "17908  PnwOegp7RXfMeNAyO9fQhQ            11\n"
     ]
    }
   ],
   "source": [
    "# Group by `user_id` and count the number of reviews for each user\n",
    "user_review_count = (\n",
    "    review_df.groupby('user_id')\n",
    "    .size()\n",
    "    .reset_index(name='review_count')\n",
    ")\n",
    "\n",
    "# Sort by `review_count` in descending order\n",
    "most_active_users = user_review_count.sort_values(by='review_count', ascending=False)\n",
    "\n",
    "# Select the top 10 rows\n",
    "most_active_users = most_active_users.head(10)\n",
    "\n",
    "# Print the result\n",
    "print(\"Most active users who visit restaurants:\")\n",
    "print(most_active_users)\n"
   ]
  },
  {
   "cell_type": "markdown",
   "metadata": {},
   "source": [
    "Top 5 Most Popular Restaurant Categories"
   ]
  },
  {
   "cell_type": "code",
   "execution_count": 54,
   "metadata": {
    "execution": {
     "iopub.execute_input": "2024-11-17T06:11:41.476014Z",
     "iopub.status.busy": "2024-11-17T06:11:41.475544Z",
     "iopub.status.idle": "2024-11-17T06:11:41.605270Z",
     "shell.execute_reply": "2024-11-17T06:11:41.604087Z",
     "shell.execute_reply.started": "2024-11-17T06:11:41.475958Z"
    },
    "trusted": true
   },
   "outputs": [
    {
     "name": "stdout",
     "output_type": "stream",
     "text": [
      "Top 5 most common restaurant categories:\n",
      "      category  num_restaurants\n",
      "0  Restaurants            17313\n",
      "1         Food             5153\n",
      "2    Nightlife             2817\n",
      "3   Sandwiches             2726\n",
      "4         Bars             2696\n"
     ]
    }
   ],
   "source": [
    "# Filter for restaurants\n",
    "restaurants = business_df[business_df['categories'].str.contains('Restaurant', na=False)]\n",
    "\n",
    "# Split categories into individual items, then explode them into separate rows\n",
    "categories_split = restaurants['categories'].dropna().str.split(', ').explode()\n",
    "\n",
    "# Count occurrences of each category\n",
    "category_counts = categories_split.value_counts().reset_index()\n",
    "category_counts.columns = ['category', 'num_restaurants']\n",
    "\n",
    "# Get the top 5 most common categories\n",
    "top_categories = category_counts.head(5)\n",
    "\n",
    "# Print the result\n",
    "print(\"Top 5 most common restaurant categories:\")\n",
    "print(top_categories)\n"
   ]
  },
  {
   "cell_type": "markdown",
   "metadata": {},
   "source": [
    "Average Restaurant Reviews Across the US"
   ]
  },
  {
   "cell_type": "code",
   "execution_count": 55,
   "metadata": {
    "execution": {
     "iopub.execute_input": "2024-11-17T06:11:41.610676Z",
     "iopub.status.busy": "2024-11-17T06:11:41.610232Z",
     "iopub.status.idle": "2024-11-17T06:11:41.680642Z",
     "shell.execute_reply": "2024-11-17T06:11:41.679373Z",
     "shell.execute_reply.started": "2024-11-17T06:11:41.610634Z"
    },
    "trusted": true
   },
   "outputs": [
    {
     "name": "stdout",
     "output_type": "stream",
     "text": [
      "Average number of reviews per restaurant by state:\n",
      "   state  review_count\n",
      "2     CA    175.405333\n",
      "10    LA    159.934122\n",
      "15    NV    136.269928\n",
      "17    TN     99.261411\n",
      "1     AZ     97.551570\n",
      "5     FL     87.566760\n",
      "11    MO     86.978412\n",
      "16    PA     85.096951\n",
      "9     IN     82.072622\n",
      "7     ID     78.788557\n",
      "4     DE     51.649351\n",
      "14    NJ     49.581642\n",
      "8     IL     36.116071\n",
      "13    NC     29.000000\n",
      "0     AB     27.057901\n",
      "6     HI     17.000000\n",
      "3     CO     12.000000\n",
      "12    MT      6.000000\n"
     ]
    }
   ],
   "source": [
    "# Filter for restaurants\n",
    "restaurants = business_df[business_df['categories'].str.contains('Restaurant', na=False)]\n",
    "\n",
    "# Group by state and calculate the average number of reviews\n",
    "state_avg_reviews = restaurants.groupby('state')['review_count'].mean().reset_index()\n",
    "\n",
    "# Sort states by the average number of reviews in descending order\n",
    "state_avg_reviews_sorted = state_avg_reviews.sort_values(by='review_count', ascending=False)\n",
    "\n",
    "# Print the result\n",
    "print(\"Average number of reviews per restaurant by state:\")\n",
    "print(state_avg_reviews_sorted)\n"
   ]
  },
  {
   "cell_type": "markdown",
   "metadata": {},
   "source": [
    "Top 10 Restaurants Currently Open for Dining"
   ]
  },
  {
   "cell_type": "code",
   "execution_count": 56,
   "metadata": {
    "execution": {
     "iopub.execute_input": "2024-11-17T06:11:41.682530Z",
     "iopub.status.busy": "2024-11-17T06:11:41.682133Z",
     "iopub.status.idle": "2024-11-17T06:11:41.759976Z",
     "shell.execute_reply": "2024-11-17T06:11:41.758847Z",
     "shell.execute_reply.started": "2024-11-17T06:11:41.682487Z"
    },
    "trusted": true
   },
   "outputs": [
    {
     "name": "stdout",
     "output_type": "stream",
     "text": [
      "Restaurants that are currently open:\n",
      "                            name            city  stars  review_count\n",
      "12307            Blues City Deli     Saint Louis    5.0           991\n",
      "16555                   Tumerico          Tucson    5.0           705\n",
      "7930                 Cafe Soleil  St. Pete Beach    5.0           468\n",
      "33175                Kaffe Crepe            Reno    5.0           454\n",
      "29873         Barista Del Barrio          Tucson    5.0           357\n",
      "35194            German Bistro 2           Largo    5.0           301\n",
      "31772        Tasty And Delicious       Nashville    5.0           260\n",
      "35856                    Tlaolli    Indianapolis    5.0           209\n",
      "35742                   The Poki       Brentwood    5.0           193\n",
      "37626  The Café at Thistle Farms       Nashville    5.0           189\n"
     ]
    }
   ],
   "source": [
    "import pandas as pd\n",
    "\n",
    "# Filter restaurants that are open and have \"Restaurant\" in their categories\n",
    "open_restaurants = business_df[\n",
    "    (business_df['is_open'] == 1) & \n",
    "    (business_df['categories'].str.contains('Restaurant', na=False))\n",
    "]\n",
    "\n",
    "# Sort by stars (descending) and review_count (descending)\n",
    "open_restaurants_sorted = open_restaurants.sort_values(\n",
    "    by=['stars', 'review_count'], ascending=[False, False]\n",
    ")\n",
    "\n",
    "# Select the top 10 restaurants\n",
    "top_open_restaurants = open_restaurants_sorted[['name', 'city', 'stars', 'review_count']].head(10)\n",
    "\n",
    "# Print the results\n",
    "print(\"Restaurants that are currently open:\")\n",
    "print(top_open_restaurants)\n"
   ]
  },
  {
   "cell_type": "markdown",
   "metadata": {},
   "source": [
    "Number of Restaurants Across US States"
   ]
  },
  {
   "cell_type": "code",
   "execution_count": 57,
   "metadata": {
    "execution": {
     "iopub.execute_input": "2024-11-17T06:11:41.761785Z",
     "iopub.status.busy": "2024-11-17T06:11:41.761415Z",
     "iopub.status.idle": "2024-11-17T06:11:41.830978Z",
     "shell.execute_reply": "2024-11-17T06:11:41.829767Z",
     "shell.execute_reply.started": "2024-11-17T06:11:41.761745Z"
    },
    "trusted": true
   },
   "outputs": [
    {
     "name": "stdout",
     "output_type": "stream",
     "text": [
      "Number of restaurants in each state:\n",
      "   state  num_restaurants\n",
      "16    PA             4198\n",
      "5     FL             2846\n",
      "17    TN             1446\n",
      "11    MO             1436\n",
      "9     IN             1377\n",
      "10    LA             1184\n",
      "14    NJ             1133\n",
      "1     AZ              892\n",
      "0     AB              829\n",
      "15    NV              552\n",
      "7     ID              402\n",
      "2     CA              375\n",
      "8     IL              336\n",
      "4     DE              308\n",
      "6     HI                1\n",
      "3     CO                1\n",
      "12    MT                1\n",
      "13    NC                1\n"
     ]
    }
   ],
   "source": [
    "import pandas as pd\n",
    "\n",
    "# Filter businesses that are restaurants\n",
    "restaurants = business_df[\n",
    "    business_df['categories'].str.contains('Restaurant', na=False)\n",
    "]\n",
    "\n",
    "# Group by state and count the number of restaurants\n",
    "restaurant_counts_by_state = restaurants.groupby('state').size().reset_index(name='num_restaurants')\n",
    "\n",
    "# Sort by the number of restaurants in descending order\n",
    "restaurant_counts_sorted = restaurant_counts_by_state.sort_values(by='num_restaurants', ascending=False)\n",
    "\n",
    "# Print the results\n",
    "print(\"Number of restaurants in each state:\")\n",
    "print(restaurant_counts_sorted)\n"
   ]
  }
 ],
 "metadata": {
  "kaggle": {
   "accelerator": "none",
   "dataSources": [
    {
     "datasetId": 10100,
     "sourceId": 3316532,
     "sourceType": "datasetVersion"
    }
   ],
   "dockerImageVersionId": 30786,
   "isGpuEnabled": false,
   "isInternetEnabled": true,
   "language": "python",
   "sourceType": "notebook"
  },
  "kernelspec": {
   "display_name": "Python 3",
   "language": "python",
   "name": "python3"
  },
  "language_info": {
   "codemirror_mode": {
    "name": "ipython",
    "version": 3
   },
   "file_extension": ".py",
   "mimetype": "text/x-python",
   "name": "python",
   "nbconvert_exporter": "python",
   "pygments_lexer": "ipython3",
   "version": "3.10.14"
  }
 },
 "nbformat": 4,
 "nbformat_minor": 4
}
